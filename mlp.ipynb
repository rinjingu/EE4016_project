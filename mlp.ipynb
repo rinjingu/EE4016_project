{
  "cells": [
    {
      "cell_type": "code",
      "execution_count": 108,
      "metadata": {
        "id": "elCpkm3N1oEj"
      },
      "outputs": [],
      "source": [
        "import torch\n",
        "import torch.nn as nn\n",
        "from torch.optim import Adam\n",
        "from torch.optim import SGD\n",
        "from torch.utils.data import Dataset, DataLoader\n",
        "import json\n",
        "import os\n",
        "from sklearn.preprocessing import StandardScaler\n",
        "import numpy as np"
      ]
    },
    {
      "cell_type": "code",
      "execution_count": 109,
      "metadata": {
        "id": "0vnBg_M61qos"
      },
      "outputs": [],
      "source": [
        "# Define the MLP model\n",
        "class MLP(nn.Module):\n",
        "    def __init__(self, input_size, hidden_size, output_size):\n",
        "        super(MLP, self).__init__()\n",
        "        self.fc1 = nn.Linear(input_size, hidden_size)\n",
        "        self.relu = nn.ReLU()\n",
        "        self.fc2 = nn.Linear(hidden_size, output_size)\n",
        "\n",
        "    def forward(self, x):\n",
        "        x = self.fc1(x)\n",
        "        x = self.relu(x)\n",
        "        x = self.fc2(x)\n",
        "        return x"
      ]
    },
    {
      "cell_type": "code",
      "execution_count": 110,
      "metadata": {
        "id": "ZJd2p4X01tnl"
      },
      "outputs": [],
      "source": [
        "# Load JSON data from a file\n",
        "cwd = os.getcwd() # Set current working directory\n",
        "preset_data = [] #add read size\n",
        "with open(os.path.join(cwd, 'data.json'), 'r') as f:\n",
        "    for line in f:\n",
        "        preset_data.append(json.loads(line))\n",
        "\n",
        "class item_based_dataset(Dataset):\n",
        "    def __init__(self, preset_data):\n",
        "        self.preset_data = preset_data\n",
        "\n",
        "    def __getitem__(self, index):\n",
        "        try:\n",
        "            asin = self.preset_data[index]['asin']\n",
        "            price_mean = float(self.preset_data[index]['price'][0].split('.')[0]) if self.preset_data[index]['price'][0] else -1\n",
        "            price_diff = float(self.preset_data[index]['price'][1].split('.')[0]) if self.preset_data[index]['price'][1] else -1\n",
        "            avg_rating = float(self.preset_data[index]['avg_rating']) if self.preset_data[index]['avg_rating'] else -1\n",
        "            rank = float(self.preset_data[index]['rank']) if self.preset_data[index]['rank'] else -1\n",
        "            brand = float(self.preset_data[index]['brand']) if self.preset_data[index]['brand'] else -1\n",
        "            category = self.preset_data[index]['category'] or [-1, -1]\n",
        "            category_a, category_b = (category + [-1, -1])[:2]\n",
        "            activeness = float(self.preset_data[index]['activeness']) if self.preset_data[index]['activeness'] else -1\n",
        "            packed_data = [price_mean, price_diff, rank, brand, category_a, category_b, activeness]\n",
        "            trainset = torch.tensor(packed_data)  # convert to tensor\n",
        "            Verify_ans = torch.tensor([avg_rating], dtype=torch.float)\n",
        "            return trainset, Verify_ans\n",
        "        except KeyError as e:\n",
        "            print(f\"KeyError: {e} is not found in the data at index {index}\")\n",
        "        except Exception as e:\n",
        "            print(f\"An error occurred: {e}\")\n",
        "\n",
        "    def __len__(self):\n",
        "        return len(self.preset_data)"
      ]
    },
    {
      "cell_type": "code",
      "execution_count": 111,
      "metadata": {
        "id": "VgDNtr8d1xKE"
      },
      "outputs": [],
      "source": [
        "# Define hyperparameters\n",
        "input_size = 7  # Dimension of input features\n",
        "hidden_size = 128  # Number of neurons in the hidden layer\n",
        "output_size = 1  # Dimension of output (predicted rating)"
      ]
    },
    {
      "cell_type": "code",
      "execution_count": 112,
      "metadata": {
        "id": "gEgtNOvH1y9I"
      },
      "outputs": [],
      "source": [
        "# Instantiate the model\n",
        "model = MLP(input_size, hidden_size, output_size)"
      ]
    },
    {
      "cell_type": "code",
      "execution_count": 113,
      "metadata": {
        "id": "8rsxHV6U11_T"
      },
      "outputs": [],
      "source": [
        "# Define loss function and optimizer\n",
        "criterion = nn.MSELoss()\n",
        "optimizer = Adam(model.parameters(), lr=0.001)"
      ]
    },
    {
      "cell_type": "code",
      "execution_count": 114,
      "metadata": {
        "id": "hC6xhW4o12rO"
      },
      "outputs": [],
      "source": [
        "# Instantiate the dataset and dataloader\n",
        "dataset = item_based_dataset(preset_data)\n",
        "dataloader = DataLoader(dataset, batch_size=32, shuffle=True)"
      ]
    },
    {
      "cell_type": "code",
      "execution_count": 115,
      "metadata": {
        "id": "60PRIGzBZGA2"
      },
      "outputs": [],
      "source": [
        "\n",
        "import json\n",
        "from torch.utils.data import DataLoader\n",
        "\n",
        "# Initialize an empty list to store the data\n",
        "data = []\n",
        "\n",
        "# Open the JSON file and read each line\n",
        "with open('data.json', 'r') as f:\n",
        "    for line in f:\n",
        "        # Load the JSON object from the current line\n",
        "        json_data = json.loads(line)\n",
        "        # Append the JSON object to the data list\n",
        "        data.append(json_data)\n",
        "\n",
        "# Define the batch size for the DataLoader\n",
        "batch_size = 32  # You can adjust this value as needed\n",
        "# Define your dataset\n",
        "dataset = item_based_dataset(data)\n",
        "\n",
        "# Define a DataLoader object for the dataset\n",
        "dataloader = DataLoader(dataset, batch_size=batch_size, shuffle=True)\n",
        "\n",
        "# Split the data into training and validation sets\n",
        "train_size = int(0.8 * len(data))  # 80% for training\n",
        "val_size = len(data) - train_size   # Remaining for validation\n",
        "train_data, val_data = random_split(data, [train_size, val_size])\n",
        "\n",
        "# Define your training and validation datasets\n",
        "train_dataset = item_based_dataset(train_data)\n",
        "val_dataset = item_based_dataset(val_data)\n",
        "\n",
        "# Define DataLoader objects for training and validation datasets\n",
        "train_dataloader = DataLoader(train_dataset, batch_size=batch_size, shuffle=True)\n",
        "val_dataloader = DataLoader(val_dataset, batch_size=batch_size, shuffle=False)\n"
      ]
    },
    {
      "cell_type": "code",
      "execution_count": 117,
      "metadata": {
        "colab": {
          "base_uri": "https://localhost:8080/"
        },
        "id": "mie9T3oO14PT",
        "outputId": "90efb995-c7ca-46bb-8fe6-e7e7a9761c8d"
      },
      "outputs": [
        {
          "output_type": "stream",
          "name": "stdout",
          "text": [
            "Epoch [1/100], Train Loss: 2387256.5033, Val Loss: 953.2905\n",
            "Epoch [2/100], Train Loss: 150108.4603, Val Loss: 40.9720, Loss Percentage Change: 95.70%\n",
            "Epoch [3/100], Train Loss: 690449.9188, Val Loss: 214.0325, Loss Percentage Change: -422.39%\n",
            "Epoch [4/100], Train Loss: 321994.6893, Val Loss: 57.1670, Loss Percentage Change: 73.29%\n",
            "Epoch [5/100], Train Loss: 508404.5733, Val Loss: 22.3288, Loss Percentage Change: 60.94%\n",
            "Epoch [6/100], Train Loss: 312393.1508, Val Loss: 166624.2781, Loss Percentage Change: -746132.00%\n",
            "Epoch [7/100], Train Loss: 130965.4293, Val Loss: 1499.9051, Loss Percentage Change: 99.10%\n",
            "Epoch [8/100], Train Loss: 458294.5719, Val Loss: 5056.1947, Loss Percentage Change: -237.10%\n",
            "Epoch [9/100], Train Loss: 93946.1243, Val Loss: 102.6575, Loss Percentage Change: 97.97%\n",
            "Epoch [10/100], Train Loss: 37525.8551, Val Loss: 481.3644, Loss Percentage Change: -368.90%\n",
            "Epoch [11/100], Train Loss: 131839.7544, Val Loss: 55.3510, Loss Percentage Change: 88.50%\n",
            "Epoch [12/100], Train Loss: 12.6876, Val Loss: 6.4526, Loss Percentage Change: 88.34%\n",
            "Epoch [13/100], Train Loss: 1391.4058, Val Loss: 6.2198, Loss Percentage Change: 3.61%\n",
            "Epoch [14/100], Train Loss: 531.6352, Val Loss: 549.4685, Loss Percentage Change: -8734.12%\n",
            "Epoch [15/100], Train Loss: 1755.2942, Val Loss: 33.1305, Loss Percentage Change: 93.97%\n",
            "Epoch [16/100], Train Loss: 473.8468, Val Loss: 7.7038, Loss Percentage Change: 76.75%\n",
            "Epoch [17/100], Train Loss: 2769.9800, Val Loss: 11.9925, Loss Percentage Change: -55.67%\n",
            "Epoch [18/100], Train Loss: 352.9629, Val Loss: 15.9881, Loss Percentage Change: -33.32%\n",
            "Epoch [19/100], Train Loss: 1202.8347, Val Loss: 322.5419, Loss Percentage Change: -1917.39%\n",
            "Epoch [20/100], Train Loss: 8.5432, Val Loss: 4.7604, Loss Percentage Change: 98.52%\n",
            "Epoch [21/100], Train Loss: 14.4939, Val Loss: 8.1025, Loss Percentage Change: -70.21%\n",
            "Epoch [22/100], Train Loss: 21.8998, Val Loss: 5.3869, Loss Percentage Change: 33.52%\n",
            "Epoch [23/100], Train Loss: 19.3806, Val Loss: 4.5341, Loss Percentage Change: 15.83%\n",
            "Epoch [24/100], Train Loss: 19.8222, Val Loss: 6.3268, Loss Percentage Change: -39.54%\n",
            "Epoch [25/100], Train Loss: 15.4543, Val Loss: 9.4922, Loss Percentage Change: -50.03%\n",
            "Epoch [26/100], Train Loss: 14.3492, Val Loss: 5.4694, Loss Percentage Change: 42.38%\n",
            "Epoch [27/100], Train Loss: 20.4702, Val Loss: 4.5913, Loss Percentage Change: 16.05%\n",
            "Epoch [28/100], Train Loss: 12.2377, Val Loss: 5.9077, Loss Percentage Change: -28.67%\n",
            "Epoch [29/100], Train Loss: 20.2480, Val Loss: 4.4562, Loss Percentage Change: 24.57%\n",
            "Epoch [30/100], Train Loss: 17.3468, Val Loss: 4.4309, Loss Percentage Change: 0.57%\n",
            "Epoch [31/100], Train Loss: 37.1136, Val Loss: 4.5703, Loss Percentage Change: -3.15%\n",
            "Epoch [32/100], Train Loss: 14.1551, Val Loss: 4.8050, Loss Percentage Change: -5.14%\n",
            "Epoch [33/100], Train Loss: 23.1923, Val Loss: 4.0732, Loss Percentage Change: 15.23%\n",
            "Epoch [34/100], Train Loss: 27.4941, Val Loss: 5.1452, Loss Percentage Change: -26.32%\n",
            "Epoch [35/100], Train Loss: 10.3571, Val Loss: 3.9697, Loss Percentage Change: 22.85%\n",
            "Epoch [36/100], Train Loss: 17.5918, Val Loss: 18.0193, Loss Percentage Change: -353.93%\n",
            "Epoch [37/100], Train Loss: 13.7784, Val Loss: 4.9783, Loss Percentage Change: 72.37%\n",
            "Epoch [38/100], Train Loss: 17.5611, Val Loss: 3.7799, Loss Percentage Change: 24.07%\n",
            "Epoch [39/100], Train Loss: 12.7444, Val Loss: 3.7206, Loss Percentage Change: 1.57%\n",
            "Epoch [40/100], Train Loss: 19.2001, Val Loss: 125.5829, Loss Percentage Change: -3275.32%\n",
            "Epoch [41/100], Train Loss: 14.2046, Val Loss: 4.4932, Loss Percentage Change: 96.42%\n",
            "Epoch [42/100], Train Loss: 12.3710, Val Loss: 9.3588, Loss Percentage Change: -108.29%\n",
            "Epoch [43/100], Train Loss: 21.7416, Val Loss: 4.1614, Loss Percentage Change: 55.53%\n",
            "Epoch [44/100], Train Loss: 13.7877, Val Loss: 3.7725, Loss Percentage Change: 9.35%\n",
            "Epoch [45/100], Train Loss: 13.9546, Val Loss: 153.8376, Loss Percentage Change: -3977.87%\n",
            "Epoch [46/100], Train Loss: 4.0171, Val Loss: 4.0254, Loss Percentage Change: 97.38%\n",
            "Epoch [47/100], Train Loss: 4.0733, Val Loss: 3.6017, Loss Percentage Change: 10.53%\n",
            "Epoch [48/100], Train Loss: 4.0138, Val Loss: 3.4899, Loss Percentage Change: 3.10%\n",
            "Epoch [49/100], Train Loss: 4.1457, Val Loss: 3.5638, Loss Percentage Change: -2.12%\n",
            "Epoch [50/100], Train Loss: 3.9193, Val Loss: 3.5372, Loss Percentage Change: 0.75%\n",
            "Epoch [51/100], Train Loss: 4.0511, Val Loss: 3.5155, Loss Percentage Change: 0.62%\n",
            "Epoch [52/100], Train Loss: 4.1031, Val Loss: 4.1385, Loss Percentage Change: -17.72%\n",
            "Epoch [53/100], Train Loss: 4.0033, Val Loss: 3.5067, Loss Percentage Change: 15.27%\n",
            "Epoch [54/100], Train Loss: 3.9380, Val Loss: 3.6163, Loss Percentage Change: -3.12%\n",
            "Epoch [55/100], Train Loss: 3.5174, Val Loss: 3.4525, Loss Percentage Change: 4.53%\n",
            "Epoch [56/100], Train Loss: 3.5171, Val Loss: 3.4631, Loss Percentage Change: -0.30%\n",
            "Epoch [57/100], Train Loss: 3.5169, Val Loss: 3.5061, Loss Percentage Change: -1.24%\n",
            "Epoch [58/100], Train Loss: 3.5243, Val Loss: 3.7933, Loss Percentage Change: -8.19%\n",
            "Epoch [59/100], Train Loss: 3.5223, Val Loss: 3.4448, Loss Percentage Change: 9.19%\n",
            "Epoch [60/100], Train Loss: 3.5102, Val Loss: 3.4993, Loss Percentage Change: -1.58%\n",
            "Epoch [61/100], Train Loss: 3.5215, Val Loss: 3.4532, Loss Percentage Change: 1.32%\n",
            "Epoch [62/100], Train Loss: 3.5186, Val Loss: 3.4419, Loss Percentage Change: 0.33%\n",
            "Epoch [63/100], Train Loss: 3.5157, Val Loss: 3.4730, Loss Percentage Change: -0.90%\n",
            "Epoch [64/100], Train Loss: 3.5113, Val Loss: 3.4635, Loss Percentage Change: 0.27%\n",
            "Epoch [65/100], Train Loss: 3.5130, Val Loss: 3.5210, Loss Percentage Change: -1.66%\n",
            "Epoch [66/100], Train Loss: 3.5095, Val Loss: 3.4723, Loss Percentage Change: 1.38%\n",
            "Epoch [67/100], Train Loss: 3.5138, Val Loss: 3.4474, Loss Percentage Change: 0.72%\n",
            "Epoch [68/100], Train Loss: 3.5077, Val Loss: 3.5733, Loss Percentage Change: -3.65%\n",
            "Epoch [69/100], Train Loss: 3.4706, Val Loss: 3.4389, Loss Percentage Change: 3.76%\n",
            "Epoch [70/100], Train Loss: 3.4697, Val Loss: 3.4376, Loss Percentage Change: 0.04%\n",
            "Epoch [71/100], Train Loss: 3.4695, Val Loss: 3.4477, Loss Percentage Change: -0.29%\n",
            "Epoch [72/100], Train Loss: 3.4694, Val Loss: 3.4412, Loss Percentage Change: 0.19%\n",
            "Epoch [73/100], Train Loss: 3.4691, Val Loss: 3.4375, Loss Percentage Change: 0.11%\n",
            "Epoch [74/100], Train Loss: 3.4702, Val Loss: 3.4405, Loss Percentage Change: -0.09%\n",
            "Epoch [75/100], Train Loss: 3.4708, Val Loss: 3.4377, Loss Percentage Change: 0.08%\n",
            "Epoch [76/100], Train Loss: 3.4701, Val Loss: 3.4443, Loss Percentage Change: -0.19%\n",
            "Epoch [77/100], Train Loss: 3.4696, Val Loss: 3.4376, Loss Percentage Change: 0.19%\n",
            "Epoch [78/100], Train Loss: 3.4697, Val Loss: 3.4392, Loss Percentage Change: -0.05%\n",
            "Epoch [79/100], Train Loss: 3.4696, Val Loss: 3.4452, Loss Percentage Change: -0.17%\n",
            "Epoch [80/100], Train Loss: 3.4701, Val Loss: 3.4392, Loss Percentage Change: 0.17%\n",
            "Epoch [81/100], Train Loss: 3.4695, Val Loss: 3.4434, Loss Percentage Change: -0.12%\n",
            "Epoch [82/100], Train Loss: 3.4688, Val Loss: 3.4374, Loss Percentage Change: 0.17%\n",
            "Epoch [83/100], Train Loss: 3.4695, Val Loss: 3.4396, Loss Percentage Change: -0.06%\n",
            "Epoch [84/100], Train Loss: 3.4697, Val Loss: 3.4374, Loss Percentage Change: 0.06%\n",
            "Epoch [85/100], Train Loss: 3.4683, Val Loss: 3.4435, Loss Percentage Change: -0.18%\n",
            "Epoch [86/100], Train Loss: 3.4692, Val Loss: 3.4540, Loss Percentage Change: -0.31%\n",
            "Epoch [87/100], Train Loss: 3.4701, Val Loss: 3.4422, Loss Percentage Change: 0.34%\n",
            "Epoch [88/100], Train Loss: 3.4703, Val Loss: 3.4399, Loss Percentage Change: 0.07%\n",
            "Epoch [89/100], Train Loss: 3.4703, Val Loss: 3.4376, Loss Percentage Change: 0.07%\n",
            "Epoch [90/100], Train Loss: 3.4693, Val Loss: 3.4440, Loss Percentage Change: -0.19%\n",
            "Epoch [91/100], Train Loss: 3.4696, Val Loss: 3.4378, Loss Percentage Change: 0.18%\n",
            "Epoch [92/100], Train Loss: 3.4697, Val Loss: 3.4380, Loss Percentage Change: -0.01%\n",
            "Epoch [93/100], Train Loss: 3.4705, Val Loss: 3.4383, Loss Percentage Change: -0.01%\n",
            "Epoch [94/100], Train Loss: 3.4695, Val Loss: 3.4390, Loss Percentage Change: -0.02%\n",
            "Epoch [95/100], Train Loss: 3.4709, Val Loss: 3.4413, Loss Percentage Change: -0.07%\n",
            "Epoch [96/100], Train Loss: 3.4706, Val Loss: 3.4435, Loss Percentage Change: -0.06%\n",
            "Epoch [97/100], Train Loss: 3.4693, Val Loss: 3.4419, Loss Percentage Change: 0.05%\n",
            "Epoch [98/100], Train Loss: 3.4686, Val Loss: 3.4375, Loss Percentage Change: 0.13%\n",
            "Epoch [99/100], Train Loss: 3.4698, Val Loss: 3.4501, Loss Percentage Change: -0.37%\n",
            "Epoch [100/100], Train Loss: 3.4692, Val Loss: 3.4400, Loss Percentage Change: 0.29%\n"
          ]
        }
      ],
      "source": [
        "from torch.optim.lr_scheduler import ReduceLROnPlateau\n",
        "import matplotlib.pyplot as plt\n",
        "\n",
        "# Instantiate the model, criterion, optimizer, dataset, and dataloader\n",
        "# (Assuming you have already done this)\n",
        "\n",
        "# Define a learning rate scheduler\n",
        "scheduler = ReduceLROnPlateau(optimizer, mode='min', factor=0.1, patience=5, verbose=True)\n",
        "\n",
        "num_epochs = 100\n",
        "prev_loss = float('inf')  # Set initial previous loss to infinity\n",
        "train_losses = []  # List to store training losses\n",
        "val_losses = []    # List to store validation losses\n",
        "\n",
        "for epoch in range(num_epochs):\n",
        "    # Training phase\n",
        "    model.train()  # Set model to training mode\n",
        "    running_train_loss = 0.0\n",
        "    for inputs, targets in train_dataloader:  # Assuming you have separate dataloaders for training and testing\n",
        "        optimizer.zero_grad()\n",
        "        outputs = model(inputs.float())\n",
        "        loss = criterion(outputs, targets)\n",
        "        loss.backward()\n",
        "        optimizer.step()\n",
        "        running_train_loss += loss.item() * inputs.size(0)  # Multiply by batch size\n",
        "\n",
        "    # Calculate average training loss for the epoch\n",
        "    epoch_train_loss = running_train_loss / len(train_dataset)\n",
        "\n",
        "    # Validation phase\n",
        "    model.eval()  # Set model to evaluation mode\n",
        "    running_val_loss = 0.0\n",
        "    with torch.no_grad():\n",
        "        for inputs, targets in val_dataloader:  # Assuming you have separate dataloaders for training and testing\n",
        "            outputs = model(inputs.float())\n",
        "            loss = criterion(outputs, targets)\n",
        "            running_val_loss += loss.item() * inputs.size(0)  # Multiply by batch size\n",
        "\n",
        "    # Calculate average validation loss for the epoch\n",
        "    epoch_val_loss = running_val_loss / len(val_dataset)\n",
        "\n",
        "    # Calculate percentage change in loss\n",
        "    percentage_change = (prev_loss - epoch_val_loss) / prev_loss * 100 if prev_loss != float('inf') else None\n",
        "\n",
        "    # Print both training and validation losses\n",
        "    if percentage_change is not None:\n",
        "        print(f'Epoch [{epoch+1}/{num_epochs}], Train Loss: {epoch_train_loss:.4f}, Val Loss: {epoch_val_loss:.4f}, Loss Percentage Change: {percentage_change:.2f}%')\n",
        "    else:\n",
        "        print(f'Epoch [{epoch+1}/{num_epochs}], Train Loss: {epoch_train_loss:.4f}, Val Loss: {epoch_val_loss:.4f}')\n",
        "\n",
        "    # Update previous loss for the next epoch\n",
        "    prev_loss = epoch_val_loss\n",
        "\n",
        "    # Append losses to lists for plotting\n",
        "    train_losses.append(epoch_train_loss)\n",
        "    val_losses.append(epoch_val_loss)\n",
        "\n",
        "    # Check for NaN loss and adjust learning rate if necessary\n",
        "    if epoch_val_loss != epoch_val_loss:  # Check for NaN loss\n",
        "        print(\"NaN loss detected in validation. Adjusting learning rate.\")\n",
        "        scheduler.step(epoch_val_loss)  # Adjust learning rate\n",
        "    else:\n",
        "        scheduler.step(epoch_val_loss)  # Update learning rate based on validation loss\n",
        "\n"
      ]
    },
    {
      "cell_type": "code",
      "source": [
        "\n",
        "# Plotting the losses\n",
        "plt.plot(train_losses, label='Train Loss')\n",
        "plt.plot(val_losses, label='Validation Loss')\n",
        "plt.xlabel('Epoch')\n",
        "plt.ylabel('Loss')\n",
        "plt.title('Training and Validation Losses')\n",
        "plt.legend()\n",
        "plt.show()"
      ],
      "metadata": {
        "colab": {
          "base_uri": "https://localhost:8080/",
          "height": 472
        },
        "id": "iqSseWgr1eP9",
        "outputId": "76ef9e8e-6049-4ec6-a498-655bc49e6785"
      },
      "execution_count": 118,
      "outputs": [
        {
          "output_type": "display_data",
          "data": {
            "text/plain": [
              "<Figure size 640x480 with 1 Axes>"
            ],
            "image/png": "[encoded data removed]"
          },
          "metadata": {}
        }
      ]
    }
  ],
  "metadata": {
    "colab": {
      "provenance": []
    },
    "kernelspec": {
      "display_name": "Python 3",
      "name": "python3"
    },
    "language_info": {
      "name": "python"
    }
  },
  "nbformat": 4,
  "nbformat_minor": 0
}